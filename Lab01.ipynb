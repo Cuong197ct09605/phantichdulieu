{
  "nbformat": 4,
  "nbformat_minor": 0,
  "metadata": {
    "colab": {
      "name": "Lab01.ipynb",
      "provenance": [],
      "authorship_tag": "ABX9TyOEiG2m7xpZdejQHqEH+8s4",
      "include_colab_link": true
    },
    "kernelspec": {
      "name": "python3",
      "display_name": "Python 3"
    },
    "language_info": {
      "name": "python"
    }
  },
  "cells": [
    {
      "cell_type": "markdown",
      "metadata": {
        "id": "view-in-github",
        "colab_type": "text"
      },
      "source": [
        "<a href=\"https://colab.research.google.com/github/Cuong197ct09605/phantichdulieu/blob/main/Lab01.ipynb\" target=\"_parent\"><img src=\"https://colab.research.google.com/assets/colab-badge.svg\" alt=\"Open In Colab\"/></a>"
      ]
    },
    {
      "cell_type": "code",
      "execution_count": 1,
      "metadata": {
        "colab": {
          "base_uri": "https://localhost:8080/"
        },
        "id": "YUqxVyRc4gAo",
        "outputId": "0563e3f3-5654-4742-8dcc-5c9db1106eb1"
      },
      "outputs": [
        {
          "output_type": "stream",
          "name": "stdout",
          "text": [
            "Chào mừng các bạn đén với thực hành PTDL -Lab01\n"
          ]
        }
      ],
      "source": [
        "print('Chào mừng các bạn đén với thực hành PTDL -Lab01')"
      ]
    }
  ]
}